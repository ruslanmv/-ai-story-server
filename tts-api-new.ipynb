{
 "cells": [
  {
   "cell_type": "code",
   "execution_count": 1,
   "id": "86f113fb-1bcc-4f8a-8841-6c112e68626e",
   "metadata": {
    "tags": []
   },
   "outputs": [],
   "source": [
    "#!pip install torch\n",
    "#!pip install noisereduce\n",
    "#!pip install scipy"
   ]
  },
  {
   "cell_type": "code",
   "execution_count": 2,
   "id": "64b17229-0c58-4486-a751-36a7909789c8",
   "metadata": {
    "tags": []
   },
   "outputs": [],
   "source": [
    "import requests\n",
    "import base64\n",
    "import numpy as np\n",
    "from scipy.io.wavfile import read, write\n",
    "import noisereduce as nr\n",
    "import base64\n",
    "import requests\n",
    "import struct"
   ]
  },
  {
   "cell_type": "code",
   "execution_count": 3,
   "id": "b9d0dcdc-fb27-456d-8bbe-69bff092f4c6",
   "metadata": {
    "tags": []
   },
   "outputs": [],
   "source": [
    "# Define sentence split length\n",
    "SENTENCE_SPLIT_LENGTH = 400"
   ]
  },
  {
   "cell_type": "code",
   "execution_count": 4,
   "id": "f5a0d3e9-ce79-40ac-a437-1afbe0b3abc1",
   "metadata": {
    "tags": []
   },
   "outputs": [],
   "source": [
    "##[\"en\",\"es\",\"fr\",\"de\",\"it\",\"pt\",\"pl\",\"tr\",\"ru\",\"nl\",\"cs\",\"ar\",\"zh-cn\",\"ja\"]\n",
    "def detect_language(sentence):\n",
    "    url = \"https://ruslanmv-hf-llm-api-collection.hf.space/detect\"\n",
    "    data = {\"input_text\": sentence}\n",
    "    headers = {\"Accept\": \"application/json\", \"Content-Type\": \"application/json\"}\n",
    "    response = requests.post(url, headers=headers, json=data)\n",
    "    if response.status_code == 200:\n",
    "        try:\n",
    "            response_json = response.json()\n",
    "            language = response_json.get(\"lang\")  # Assuming \"lang\" is the key\n",
    "            return language\n",
    "        except JSONDecodeError:\n",
    "            print(\"Error: Invalid JSON response from the language detection API.\")\n",
    "    else:\n",
    "        print(f\"Error: Language detection API call failed with status code {response.status_code}\")\n",
    "\n",
    "    return None  # Fallback if API calls fail"
   ]
  },
  {
   "cell_type": "code",
   "execution_count": 5,
   "id": "28bec182-30b6-4886-9ce2-e307ae285ed4",
   "metadata": {
    "tags": []
   },
   "outputs": [],
   "source": [
    "def split_sentences(text, max_len):\n",
    "    # Apply custom rules to enforce sentence breaks with double punctuation\n",
    "    text = re.sub(r\"(\\s*\\.{2})\\s*\", r\".\\1 \", text)  # for '..'\n",
    "    text = re.sub(r\"(\\s*\\!{2})\\s*\", r\"!\\1 \", text)  # for '!!'\n",
    "\n",
    "    # Use NLTK to split into sentences\n",
    "    sentences = nltk.sent_tokenize(text)\n",
    "\n",
    "    # Then check if each sentence is greater than max_len, if so, use textwrap to split it\n",
    "    sentence_list = []\n",
    "    for sent in sentences:\n",
    "        if len(sent) > max_len:\n",
    "            wrapped = textwrap.wrap(sent, max_len, break_long_words=True)\n",
    "            sentence_list.extend(wrapped)\n",
    "        else:\n",
    "            sentence_list.append(sent)\n",
    "    \n",
    "    return sentence_list"
   ]
  },
  {
   "cell_type": "code",
   "execution_count": 6,
   "id": "dccb51ab-b172-4be5-97ec-275f870e70c8",
   "metadata": {
    "tags": []
   },
   "outputs": [],
   "source": [
    "\n",
    "def get_voice_streaming2(sentence, language):\n",
    "    \"\"\"Makes a POST request to the text-to-speech API and yields audio chunks.\"\"\"\n",
    "    url = \"https://ruslanmv-hf-llm-api-collection.hf.space/tts\"\n",
    "    data = {\"input_text\": sentence, \"from_language\": language}\n",
    "    headers = {\"Accept\": \"application/json\", \"Content-Type\": \"application/json\"}\n",
    "    response = requests.post(url, headers=headers, json=data)\n",
    "    return response\n",
    "\n",
    "\n",
    "def pcm_to_wav2(pcm_data, sample_rate=24000, channels=1, bit_depth=16):\n",
    "    if pcm_data.startswith(b\"RIFF\"):\n",
    "        return pcm_data\n",
    "\n",
    "    fmt_subchunk_size = 16\n",
    "    data_subchunk_size = len(pcm_data)\n",
    "    chunk_size = 4 + (8 + fmt_subchunk_size) + (8 + data_subchunk_size)\n",
    "\n",
    "    wav_header = struct.pack('<4sI4s', b'RIFF', chunk_size, b'WAVE')\n",
    "    fmt_subchunk = struct.pack('<4sIHHIIHH',\n",
    "                               b'fmt ', fmt_subchunk_size, 1, channels,\n",
    "                               sample_rate, sample_rate * channels * bit_depth // 8,\n",
    "                               channels * bit_depth // 8, bit_depth)\n",
    "\n",
    "    data_subchunk = struct.pack('<4sI', b'data', data_subchunk_size)\n",
    "    return wav_header + fmt_subchunk + data_subchunk + pcm_data"
   ]
  },
  {
   "cell_type": "code",
   "execution_count": 7,
   "id": "6284f729-e6f3-45ca-86d2-60720e625b18",
   "metadata": {
    "tags": []
   },
   "outputs": [],
   "source": [
    "import base64\n",
    "from IPython.display import display\n",
    "\n",
    "def play_audio_from_base64_display(base64_string):\n",
    "  \"\"\"\n",
    "  Plays audio data provided as a base64 encoded string using IPython.display.Audio.\n",
    "\n",
    "  Args:\n",
    "      base64_string: The base64 encoded audio data.\n",
    "  \"\"\"\n",
    "  # Decode the base64 string\n",
    "  audio_data = base64.b64decode(base64_string)\n",
    "\n",
    "  # Assuming the data is in a format displayable by IPython.display.Audio\n",
    "  # You might need to convert the audio data to a playable format if necessary.\n",
    "  display(Audio(data=audio_data))"
   ]
  },
  {
   "cell_type": "code",
   "execution_count": 8,
   "id": "0a3c1138-21b4-4578-af98-1320b3ab229e",
   "metadata": {
    "tags": []
   },
   "outputs": [],
   "source": [
    "import re\n",
    "def generate_speech_from_history2(history, chatbot_role, sentence):\n",
    "    \"\"\"\n",
    "    Generates speech audio from a given sentence, performing necessary preprocessing.\n",
    "\n",
    "    Args:\n",
    "        history (list): Conversation history.\n",
    "        chatbot_role (str): Role of the chatbot.\n",
    "        sentence (str): The sentence to be converted to speech.\n",
    "\n",
    "    Returns:\n",
    "        list: A list of dictionaries containing text and audio (base64 encoded) for each sentence fragment.\n",
    "    \"\"\"\n",
    "    language = \"autodetect\"\n",
    "    if len(sentence) == 0:\n",
    "        print(\"EMPTY SENTENCE\")\n",
    "        return\n",
    "    # Preprocessing steps:\n",
    "    # - Remove special prompt token (</s>)\n",
    "    sentence = sentence.replace(\"</s>\", \"\")\n",
    "    # - Remove code sections (enclosed in triple backticks)\n",
    "    sentence = re.sub(\"`.*`\", \"\", sentence, flags=re.DOTALL)\n",
    "    # - Remove inline code fragments (backticks)\n",
    "    sentence = re.sub(\"`.*`\", \"\", sentence, flags=re.DOTALL)\n",
    "    # - Remove content within parentheses\n",
    "    sentence = re.sub(\"\\(.*\\)\", \"\", sentence, flags=re.DOTALL)\n",
    "    # - Remove remaining triple backticks\n",
    "    sentence = sentence.replace(\"```\", \"\")\n",
    "    # - Replace ellipses with spaces\n",
    "    sentence = sentence.replace(\"...\", \" \")\n",
    "    # - Replace parentheses with spaces\n",
    "    sentence = sentence.replace(\"(\", \" \")\n",
    "    sentence = sentence.replace(\")\", \" \")\n",
    "    # - Remove assistant tag\n",
    "    sentence = sentence.replace(\"<|assistant|>\",\"\")\n",
    "    if len(sentence) == 0:\n",
    "        print(\"EMPTY SENTENCE after processing\")\n",
    "        return\n",
    "    # - Handle punctuation at the end of sentences\n",
    "    sentence = re.sub(\"([^\\x00-\\x7F]|\\w)([\\.。?!]+)\", r\"\\1 \\2\", sentence)\n",
    "    print(\"Sentence for speech:\", sentence)\n",
    "    results = []\n",
    "\n",
    "    try:\n",
    "        if len(sentence) < SENTENCE_SPLIT_LENGTH:\n",
    "            sentence_list = [sentence]\n",
    "        else:\n",
    "            # Split longer sentences (implement your preferred split method)\n",
    "            sentence_list = split_sentences(sentence, SENTENCE_SPLIT_LENGTH)\n",
    "            print(\"detected sentences:\", sentence_list)\n",
    "\n",
    "        for sentence in sentence_list:\n",
    "            print(\"- sentence =\", sentence)\n",
    "            if any(c.isalnum() for c in sentence):\n",
    "                if language == \"autodetect\":\n",
    "                    language = detect_language(sentence)  # Detect language on first call\n",
    "                    print(\"language\",language)\n",
    "                audio_stream = get_voice_streaming2(sentence, language)\n",
    "                if audio_stream is not None:\n",
    "                    sentence_wav_bytestream = b\"\"\n",
    "                    # Process audio chunks\n",
    "                    for chunk in audio_stream:\n",
    "                        if chunk is not None:\n",
    "                            sentence_wav_bytestream += chunk\n",
    "                    # Encode WAV to base64\n",
    "                    base64_audio = base64.b64encode(pcm_to_wav2(sentence_wav_bytestream)).decode('utf8')\n",
    "                    print(\"base64_audio\",base64_audio[:10])\n",
    "                    results.append({ \"text\": sentence, \"audio\": base64_audio })\n",
    "                else:\n",
    "                    # Handle the case where the audio stream is None (e.g., silent response)\n",
    "                    results.append({ \"text\": sentence, \"audio\": \"\" })\n",
    "\n",
    "    except RuntimeError as e:\n",
    "        if \"device-side assert\" in str(e):\n",
    "            # cannot do anything , need to restart\n",
    "            print(\n",
    "                f\"Exit due to: Unrecoverable exception caused by prompt:{sentence}\",\n",
    "                flush=True,\n",
    "            )\n",
    "            #This error is unrecoverable need to restart space\n",
    "            #api.restart_space(repo_id=repo_id)\n",
    "        else:\n",
    "            print(\"RuntimeError: non device-side assert error:\", str(e))\n",
    "            raise e\n",
    "\n",
    "    return results"
   ]
  },
  {
   "cell_type": "code",
   "execution_count": 9,
   "id": "e449b3cb-2023-45b8-89eb-f20c47b685ec",
   "metadata": {
    "tags": []
   },
   "outputs": [],
   "source": [
    "# Define sentence split length\n",
    "SENTENCE_SPLIT_LENGTH = 400\n",
    "import base64\n",
    "from IPython.display import display\n",
    "from IPython.display import Audio\n"
   ]
  },
  {
   "cell_type": "code",
   "execution_count": 13,
   "id": "4a4b0b10-4364-4635-8731-94cc4620549e",
   "metadata": {
    "tags": []
   },
   "outputs": [
    {
     "name": "stdout",
     "output_type": "stream",
     "text": [
      "Sentence for speech: Hello, how can I help you ?\n",
      "- sentence = Hello, how can I help you ?\n",
      "language en\n",
      "base64_audio UklGRqQiAA\n"
     ]
    }
   ],
   "source": [
    "# Example usage\n",
    "history = []\n",
    "chatbot_role = \"assistant\"\n",
    "sentence = \"Hello, how can I help you?\"\n",
    "result = generate_speech_from_history2(history, chatbot_role, sentence)\n",
    "#print(result)\n"
   ]
  },
  {
   "cell_type": "code",
   "execution_count": null,
   "id": "e0e6bc74-07d8-42b9-8c47-1e542aa5ca30",
   "metadata": {},
   "outputs": [],
   "source": [
    "base64_string =result[0]['audio']\n",
    "audio_data = base64.b64decode(base64_string)\n",
    "base64_audio_string = base64_string  # Replace with your actual base64 string\n",
    "play_audio_from_base64_display(base64_audio_string)"
   ]
  }
 ],
 "metadata": {
  "kernelspec": {
   "display_name": "conda_python3",
   "language": "python",
   "name": "conda_python3"
  },
  "language_info": {
   "codemirror_mode": {
    "name": "ipython",
    "version": 3
   },
   "file_extension": ".py",
   "mimetype": "text/x-python",
   "name": "python",
   "nbconvert_exporter": "python",
   "pygments_lexer": "ipython3",
   "version": "3.10.13"
  }
 },
 "nbformat": 4,
 "nbformat_minor": 5
}
